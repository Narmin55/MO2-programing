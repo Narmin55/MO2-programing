{
 "cells": [
  {
   "cell_type": "code",
   "execution_count": 1,
   "metadata": {},
   "outputs": [
    {
     "name": "stdout",
     "output_type": "stream",
     "text": [
      "Celsius | Fahrenheit\n",
      "      0 |       32.0\n",
      "      5 |       41.0\n",
      "     10 |       50.0\n",
      "     15 |       59.0\n",
      "     20 |       68.0\n",
      "     25 |       77.0\n",
      "     30 |       86.0\n",
      "     35 |       95.0\n",
      "     40 |      104.0\n",
      "     45 |      113.0\n",
      "     50 |      122.0\n",
      "     55 |      131.0\n",
      "     60 |      140.0\n",
      "     65 |      149.0\n",
      "     70 |      158.0\n",
      "     75 |      167.0\n",
      "     80 |      176.0\n",
      "     85 |      185.0\n",
      "     90 |      194.0\n",
      "     95 |      203.0\n",
      "    100 |      212.0\n"
     ]
    }
   ],
   "source": [
    "print(\"Celsius | Fahrenheit\")\n",
    "for celsius in range(0, 101, 5):\n",
    "    fahrenheit = (celsius * 9/5) + 32\n",
    "    print(f\"{celsius:>7} | {fahrenheit:>10}\")\n"
   ]
  },
  {
   "cell_type": "code",
   "execution_count": 2,
   "metadata": {},
   "outputs": [
    {
     "name": "stdout",
     "output_type": "stream",
     "text": [
      "Prime numbers in the list:\n",
      "3\n",
      "23\n"
     ]
    }
   ],
   "source": [
    "def is_prime(num):\n",
    "    if num < 2:\n",
    "        return False\n",
    "    for i in range(2, int(num**0.5) + 1):\n",
    "        if num % i == 0:\n",
    "            return False\n",
    "    return True\n",
    "\n",
    "numbers = [3, 4, 8, 15, 23, 42]\n",
    "print(\"Prime numbers in the list:\")\n",
    "for number in numbers:\n",
    "    if is_prime(number):\n",
    "        print(number)\n"
   ]
  },
  {
   "cell_type": "code",
   "execution_count": 3,
   "metadata": {},
   "outputs": [
    {
     "name": "stdout",
     "output_type": "stream",
     "text": [
      "The sum of even numbers from 1 to 100 is 2550\n"
     ]
    }
   ],
   "source": [
    "sum_even = 0\n",
    "number = 2\n",
    "while number <= 100:\n",
    "    sum_even += number\n",
    "    number += 2\n",
    "print(f\"The sum of even numbers from 1 to 100 is {sum_even}\")\n"
   ]
  },
  {
   "cell_type": "code",
   "execution_count": 4,
   "metadata": {},
   "outputs": [
    {
     "name": "stdout",
     "output_type": "stream",
     "text": [
      "Password is valid!\n"
     ]
    }
   ],
   "source": [
    "\"\"\"Write a Python script that prompts the user to enter a\n",
    "   password until they enter a password that includes at least \n",
    "   one uppercase letter, one lowercase letter, and one number.\n",
    "   Use a while loop and conditionals to check the conditions.\n",
    "\"\"\"\n",
    "import re\n",
    "\n",
    "password = \"\"\n",
    "while not (re.search(\"[a-z]\", password) and re.search(\"[A-Z]\", password) and re.search(\"[0-9]\", password)):\n",
    "    password = input(\"Enter a valid password: \")\n",
    "print(\"Password is valid!\")\n"
   ]
  },
  {
   "cell_type": "code",
   "execution_count": null,
   "metadata": {},
   "outputs": [],
   "source": []
  }
 ],
 "metadata": {
  "kernelspec": {
   "display_name": "Python 3",
   "language": "python",
   "name": "python3"
  },
  "language_info": {
   "codemirror_mode": {
    "name": "ipython",
    "version": 3
   },
   "file_extension": ".py",
   "mimetype": "text/x-python",
   "name": "python",
   "nbconvert_exporter": "python",
   "pygments_lexer": "ipython3",
   "version": "3.10.9"
  }
 },
 "nbformat": 4,
 "nbformat_minor": 2
}
